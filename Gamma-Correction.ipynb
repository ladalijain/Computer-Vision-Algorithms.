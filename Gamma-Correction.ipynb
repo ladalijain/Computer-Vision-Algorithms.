{
  "nbformat": 4,
  "nbformat_minor": 0,
  "metadata": {
    "colab": {
      "provenance": []
    },
    "kernelspec": {
      "name": "python3",
      "display_name": "Python 3"
    },
    "language_info": {
      "name": "python"
    }
  },
  "cells": [
    {
      "cell_type": "code",
      "execution_count": null,
      "metadata": {
        "id": "TLWm4Q10uOkm"
      },
      "outputs": [],
      "source": [
        "import cv2\n",
        "import numpy as np\n",
        "\n",
        "# Open the image.\n",
        "img = cv2.imread('sample.jpg')\n",
        "\n",
        "# Trying 4 gamma values.\n",
        "for gamma in [0.1, 0.5, 1.2, 2.2]:\n",
        "\t\n",
        "\t# Apply gamma correction.\n",
        "\tgamma_corrected = np.array(255*(img / 255) ** gamma, dtype = 'uint8')\n",
        "\n",
        "\t# Save edited images.\n",
        "\tcv2.imwrite('gamma_transformed'+str(gamma)+'.jpg', gamma_corrected)\n"
      ]
    }
  ]
}