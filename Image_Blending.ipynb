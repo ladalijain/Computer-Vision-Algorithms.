{
  "nbformat": 4,
  "nbformat_minor": 0,
  "metadata": {
    "colab": {
      "provenance": []
    },
    "kernelspec": {
      "name": "python3",
      "display_name": "Python 3"
    },
    "language_info": {
      "name": "python"
    }
  },
  "cells": [
    {
      "cell_type": "code",
      "source": [
        "import cv2\n",
        "\n",
        "# Load two images\n",
        "img1 = cv2.imread('image1.jpg')\n",
        "img2 = cv2.imread('image2.jpg')\n",
        "\n",
        "# Resize images to have same shape\n",
        "img1 = cv2.resize(img1, (640, 480))\n",
        "img2 = cv2.resize(img2, (640, 480))\n",
        "\n",
        "# Blend images using addWeighted function\n",
        "alpha = 0.5  # Weight for the first image\n",
        "beta = 0.5   # Weight for the second image\n",
        "gamma = 0    # Scalar added to each sum\n",
        "blended_img = cv2.addWeighted(img1, alpha, img2, beta, gamma)\n",
        "\n",
        "# Display the blended image\n",
        "cv2.imshow('Blended Image', blended_img)\n",
        "cv2.waitKey(0)\n",
        "cv2.destroyAllWindows()\n"
      ],
      "metadata": {
        "id": "6dxcahzor9Lt"
      },
      "execution_count": null,
      "outputs": []
    }
  ]
}