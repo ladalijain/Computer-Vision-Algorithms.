{
  "nbformat": 4,
  "nbformat_minor": 0,
  "metadata": {
    "colab": {
      "provenance": []
    },
    "kernelspec": {
      "name": "python3",
      "display_name": "Python 3"
    },
    "language_info": {
      "name": "python"
    }
  },
  "cells": [
    {
      "cell_type": "code",
      "execution_count": null,
      "metadata": {
        "id": "HPCctmvNsGIG"
      },
      "outputs": [],
      "source": [
        "import cv2\n",
        "import numpy as np\n",
        "\n",
        "def laplacian_pyramid(image, levels):\n",
        "    # create a Gaussian pyramid\n",
        "    pyramid = [image]\n",
        "    for i in range(levels-1):\n",
        "        image = cv2.pyrDown(image)\n",
        "        pyramid.append(image)\n",
        "\n",
        "    # create a Laplacian pyramid\n",
        "    laplacian_pyramid = []\n",
        "    for i in range(levels-1):\n",
        "        gaussian_expanded = cv2.pyrUp(pyramid[i+1])\n",
        "        laplacian = cv2.subtract(pyramid[i], gaussian_expanded)\n",
        "        laplacian_pyramid.append(laplacian)\n",
        "    \n",
        "    # add the last level of the Gaussian pyramid to the Laplacian pyramid\n",
        "    laplacian_pyramid.append(pyramid[-1])\n",
        "    \n",
        "    return laplacian_pyramid\n",
        "\n",
        "# example usage\n",
        "image = cv2.imread('image.jpg', cv2.IMREAD_GRAYSCALE)\n",
        "levels = 4\n",
        "pyramid = laplacian_pyramid(image, levels)\n"
      ]
    },
    {
      "cell_type": "markdown",
      "source": [
        "# New Section"
      ],
      "metadata": {
        "id": "dwSs6Ue7sNgJ"
      }
    }
  ]
}